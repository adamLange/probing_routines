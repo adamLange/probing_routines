{
 "cells": [
  {
   "cell_type": "code",
   "execution_count": 1,
   "metadata": {},
   "outputs": [],
   "source": [
    "import plotly.graph_objects as go\n",
    "import numpy as np"
   ]
  },
  {
   "cell_type": "code",
   "execution_count": 2,
   "metadata": {},
   "outputs": [],
   "source": [
    "x_start = 5\n",
    "x_finish = 103\n",
    "y_start = 5\n",
    "y_finish = 115\n",
    "x = np.linspace(x_start,x_finish,8)\n",
    "y = np.linspace(y_start,y_finish,10)"
   ]
  },
  {
   "cell_type": "code",
   "execution_count": 8,
   "metadata": {},
   "outputs": [],
   "source": [
    "c = np.ndarray((len(x)*len(y),2))"
   ]
  },
  {
   "cell_type": "code",
   "execution_count": 9,
   "metadata": {},
   "outputs": [
    {
     "data": {
      "text/plain": [
       "(80, 2)"
      ]
     },
     "execution_count": 9,
     "metadata": {},
     "output_type": "execute_result"
    }
   ],
   "source": [
    "c.shape"
   ]
  },
  {
   "cell_type": "code",
   "execution_count": 10,
   "metadata": {},
   "outputs": [],
   "source": [
    "for i in range(len(x)):\n",
    "    for j in range(len(y)):\n",
    "        c[i*len(y)+j,0] = x[i]\n",
    "        c[i*len(y)+j,1] = y[j]"
   ]
  },
  {
   "cell_type": "code",
   "execution_count": 11,
   "metadata": {},
   "outputs": [
    {
     "data": {
      "application/vnd.plotly.v1+json": {
       "config": {
        "plotlyServerURL": "https://plot.ly"
       },
       "data": [
        {
         "mode": "markers",
         "type": "scatter",
         "x": [
          5,
          5,
          5,
          5,
          5,
          5,
          5,
          5,
          5,
          5,
          19,
          19,
          19,
          19,
          19,
          19,
          19,
          19,
          19,
          19,
          33,
          33,
          33,
          33,
          33,
          33,
          33,
          33,
          33,
          33,
          47,
          47,
          47,
          47,
          47,
          47,
          47,
          47,
          47,
          47,
          61,
          61,
          61,
          61,
          61,
          61,
          61,
          61,
          61,
          61,
          75,
          75,
          75,
          75,
          75,
          75,
          75,
          75,
          75,
          75,
          89,
          89,
          89,
          89,
          89,
          89,
          89,
          89,
          89,
          89,
          103,
          103,
          103,
          103,
          103,
          103,
          103,
          103,
          103,
          103
         ],
         "y": [
          5,
          17.22222222222222,
          29.444444444444443,
          41.666666666666664,
          53.888888888888886,
          66.11111111111111,
          78.33333333333333,
          90.55555555555554,
          102.77777777777777,
          115,
          5,
          17.22222222222222,
          29.444444444444443,
          41.666666666666664,
          53.888888888888886,
          66.11111111111111,
          78.33333333333333,
          90.55555555555554,
          102.77777777777777,
          115,
          5,
          17.22222222222222,
          29.444444444444443,
          41.666666666666664,
          53.888888888888886,
          66.11111111111111,
          78.33333333333333,
          90.55555555555554,
          102.77777777777777,
          115,
          5,
          17.22222222222222,
          29.444444444444443,
          41.666666666666664,
          53.888888888888886,
          66.11111111111111,
          78.33333333333333,
          90.55555555555554,
          102.77777777777777,
          115,
          5,
          17.22222222222222,
          29.444444444444443,
          41.666666666666664,
          53.888888888888886,
          66.11111111111111,
          78.33333333333333,
          90.55555555555554,
          102.77777777777777,
          115,
          5,
          17.22222222222222,
          29.444444444444443,
          41.666666666666664,
          53.888888888888886,
          66.11111111111111,
          78.33333333333333,
          90.55555555555554,
          102.77777777777777,
          115,
          5,
          17.22222222222222,
          29.444444444444443,
          41.666666666666664,
          53.888888888888886,
          66.11111111111111,
          78.33333333333333,
          90.55555555555554,
          102.77777777777777,
          115,
          5,
          17.22222222222222,
          29.444444444444443,
          41.666666666666664,
          53.888888888888886,
          66.11111111111111,
          78.33333333333333,
          90.55555555555554,
          102.77777777777777,
          115
         ]
        }
       ],
       "layout": {
        "template": {
         "data": {
          "bar": [
           {
            "error_x": {
             "color": "#2a3f5f"
            },
            "error_y": {
             "color": "#2a3f5f"
            },
            "marker": {
             "line": {
              "color": "#E5ECF6",
              "width": 0.5
             }
            },
            "type": "bar"
           }
          ],
          "barpolar": [
           {
            "marker": {
             "line": {
              "color": "#E5ECF6",
              "width": 0.5
             }
            },
            "type": "barpolar"
           }
          ],
          "carpet": [
           {
            "aaxis": {
             "endlinecolor": "#2a3f5f",
             "gridcolor": "white",
             "linecolor": "white",
             "minorgridcolor": "white",
             "startlinecolor": "#2a3f5f"
            },
            "baxis": {
             "endlinecolor": "#2a3f5f",
             "gridcolor": "white",
             "linecolor": "white",
             "minorgridcolor": "white",
             "startlinecolor": "#2a3f5f"
            },
            "type": "carpet"
           }
          ],
          "choropleth": [
           {
            "colorbar": {
             "outlinewidth": 0,
             "ticks": ""
            },
            "type": "choropleth"
           }
          ],
          "contour": [
           {
            "colorbar": {
             "outlinewidth": 0,
             "ticks": ""
            },
            "colorscale": [
             [
              0,
              "#0d0887"
             ],
             [
              0.1111111111111111,
              "#46039f"
             ],
             [
              0.2222222222222222,
              "#7201a8"
             ],
             [
              0.3333333333333333,
              "#9c179e"
             ],
             [
              0.4444444444444444,
              "#bd3786"
             ],
             [
              0.5555555555555556,
              "#d8576b"
             ],
             [
              0.6666666666666666,
              "#ed7953"
             ],
             [
              0.7777777777777778,
              "#fb9f3a"
             ],
             [
              0.8888888888888888,
              "#fdca26"
             ],
             [
              1,
              "#f0f921"
             ]
            ],
            "type": "contour"
           }
          ],
          "contourcarpet": [
           {
            "colorbar": {
             "outlinewidth": 0,
             "ticks": ""
            },
            "type": "contourcarpet"
           }
          ],
          "heatmap": [
           {
            "colorbar": {
             "outlinewidth": 0,
             "ticks": ""
            },
            "colorscale": [
             [
              0,
              "#0d0887"
             ],
             [
              0.1111111111111111,
              "#46039f"
             ],
             [
              0.2222222222222222,
              "#7201a8"
             ],
             [
              0.3333333333333333,
              "#9c179e"
             ],
             [
              0.4444444444444444,
              "#bd3786"
             ],
             [
              0.5555555555555556,
              "#d8576b"
             ],
             [
              0.6666666666666666,
              "#ed7953"
             ],
             [
              0.7777777777777778,
              "#fb9f3a"
             ],
             [
              0.8888888888888888,
              "#fdca26"
             ],
             [
              1,
              "#f0f921"
             ]
            ],
            "type": "heatmap"
           }
          ],
          "heatmapgl": [
           {
            "colorbar": {
             "outlinewidth": 0,
             "ticks": ""
            },
            "colorscale": [
             [
              0,
              "#0d0887"
             ],
             [
              0.1111111111111111,
              "#46039f"
             ],
             [
              0.2222222222222222,
              "#7201a8"
             ],
             [
              0.3333333333333333,
              "#9c179e"
             ],
             [
              0.4444444444444444,
              "#bd3786"
             ],
             [
              0.5555555555555556,
              "#d8576b"
             ],
             [
              0.6666666666666666,
              "#ed7953"
             ],
             [
              0.7777777777777778,
              "#fb9f3a"
             ],
             [
              0.8888888888888888,
              "#fdca26"
             ],
             [
              1,
              "#f0f921"
             ]
            ],
            "type": "heatmapgl"
           }
          ],
          "histogram": [
           {
            "marker": {
             "colorbar": {
              "outlinewidth": 0,
              "ticks": ""
             }
            },
            "type": "histogram"
           }
          ],
          "histogram2d": [
           {
            "colorbar": {
             "outlinewidth": 0,
             "ticks": ""
            },
            "colorscale": [
             [
              0,
              "#0d0887"
             ],
             [
              0.1111111111111111,
              "#46039f"
             ],
             [
              0.2222222222222222,
              "#7201a8"
             ],
             [
              0.3333333333333333,
              "#9c179e"
             ],
             [
              0.4444444444444444,
              "#bd3786"
             ],
             [
              0.5555555555555556,
              "#d8576b"
             ],
             [
              0.6666666666666666,
              "#ed7953"
             ],
             [
              0.7777777777777778,
              "#fb9f3a"
             ],
             [
              0.8888888888888888,
              "#fdca26"
             ],
             [
              1,
              "#f0f921"
             ]
            ],
            "type": "histogram2d"
           }
          ],
          "histogram2dcontour": [
           {
            "colorbar": {
             "outlinewidth": 0,
             "ticks": ""
            },
            "colorscale": [
             [
              0,
              "#0d0887"
             ],
             [
              0.1111111111111111,
              "#46039f"
             ],
             [
              0.2222222222222222,
              "#7201a8"
             ],
             [
              0.3333333333333333,
              "#9c179e"
             ],
             [
              0.4444444444444444,
              "#bd3786"
             ],
             [
              0.5555555555555556,
              "#d8576b"
             ],
             [
              0.6666666666666666,
              "#ed7953"
             ],
             [
              0.7777777777777778,
              "#fb9f3a"
             ],
             [
              0.8888888888888888,
              "#fdca26"
             ],
             [
              1,
              "#f0f921"
             ]
            ],
            "type": "histogram2dcontour"
           }
          ],
          "mesh3d": [
           {
            "colorbar": {
             "outlinewidth": 0,
             "ticks": ""
            },
            "type": "mesh3d"
           }
          ],
          "parcoords": [
           {
            "line": {
             "colorbar": {
              "outlinewidth": 0,
              "ticks": ""
             }
            },
            "type": "parcoords"
           }
          ],
          "pie": [
           {
            "automargin": true,
            "type": "pie"
           }
          ],
          "scatter": [
           {
            "marker": {
             "colorbar": {
              "outlinewidth": 0,
              "ticks": ""
             }
            },
            "type": "scatter"
           }
          ],
          "scatter3d": [
           {
            "line": {
             "colorbar": {
              "outlinewidth": 0,
              "ticks": ""
             }
            },
            "marker": {
             "colorbar": {
              "outlinewidth": 0,
              "ticks": ""
             }
            },
            "type": "scatter3d"
           }
          ],
          "scattercarpet": [
           {
            "marker": {
             "colorbar": {
              "outlinewidth": 0,
              "ticks": ""
             }
            },
            "type": "scattercarpet"
           }
          ],
          "scattergeo": [
           {
            "marker": {
             "colorbar": {
              "outlinewidth": 0,
              "ticks": ""
             }
            },
            "type": "scattergeo"
           }
          ],
          "scattergl": [
           {
            "marker": {
             "colorbar": {
              "outlinewidth": 0,
              "ticks": ""
             }
            },
            "type": "scattergl"
           }
          ],
          "scattermapbox": [
           {
            "marker": {
             "colorbar": {
              "outlinewidth": 0,
              "ticks": ""
             }
            },
            "type": "scattermapbox"
           }
          ],
          "scatterpolar": [
           {
            "marker": {
             "colorbar": {
              "outlinewidth": 0,
              "ticks": ""
             }
            },
            "type": "scatterpolar"
           }
          ],
          "scatterpolargl": [
           {
            "marker": {
             "colorbar": {
              "outlinewidth": 0,
              "ticks": ""
             }
            },
            "type": "scatterpolargl"
           }
          ],
          "scatterternary": [
           {
            "marker": {
             "colorbar": {
              "outlinewidth": 0,
              "ticks": ""
             }
            },
            "type": "scatterternary"
           }
          ],
          "surface": [
           {
            "colorbar": {
             "outlinewidth": 0,
             "ticks": ""
            },
            "colorscale": [
             [
              0,
              "#0d0887"
             ],
             [
              0.1111111111111111,
              "#46039f"
             ],
             [
              0.2222222222222222,
              "#7201a8"
             ],
             [
              0.3333333333333333,
              "#9c179e"
             ],
             [
              0.4444444444444444,
              "#bd3786"
             ],
             [
              0.5555555555555556,
              "#d8576b"
             ],
             [
              0.6666666666666666,
              "#ed7953"
             ],
             [
              0.7777777777777778,
              "#fb9f3a"
             ],
             [
              0.8888888888888888,
              "#fdca26"
             ],
             [
              1,
              "#f0f921"
             ]
            ],
            "type": "surface"
           }
          ],
          "table": [
           {
            "cells": {
             "fill": {
              "color": "#EBF0F8"
             },
             "line": {
              "color": "white"
             }
            },
            "header": {
             "fill": {
              "color": "#C8D4E3"
             },
             "line": {
              "color": "white"
             }
            },
            "type": "table"
           }
          ]
         },
         "layout": {
          "annotationdefaults": {
           "arrowcolor": "#2a3f5f",
           "arrowhead": 0,
           "arrowwidth": 1
          },
          "coloraxis": {
           "colorbar": {
            "outlinewidth": 0,
            "ticks": ""
           }
          },
          "colorscale": {
           "diverging": [
            [
             0,
             "#8e0152"
            ],
            [
             0.1,
             "#c51b7d"
            ],
            [
             0.2,
             "#de77ae"
            ],
            [
             0.3,
             "#f1b6da"
            ],
            [
             0.4,
             "#fde0ef"
            ],
            [
             0.5,
             "#f7f7f7"
            ],
            [
             0.6,
             "#e6f5d0"
            ],
            [
             0.7,
             "#b8e186"
            ],
            [
             0.8,
             "#7fbc41"
            ],
            [
             0.9,
             "#4d9221"
            ],
            [
             1,
             "#276419"
            ]
           ],
           "sequential": [
            [
             0,
             "#0d0887"
            ],
            [
             0.1111111111111111,
             "#46039f"
            ],
            [
             0.2222222222222222,
             "#7201a8"
            ],
            [
             0.3333333333333333,
             "#9c179e"
            ],
            [
             0.4444444444444444,
             "#bd3786"
            ],
            [
             0.5555555555555556,
             "#d8576b"
            ],
            [
             0.6666666666666666,
             "#ed7953"
            ],
            [
             0.7777777777777778,
             "#fb9f3a"
            ],
            [
             0.8888888888888888,
             "#fdca26"
            ],
            [
             1,
             "#f0f921"
            ]
           ],
           "sequentialminus": [
            [
             0,
             "#0d0887"
            ],
            [
             0.1111111111111111,
             "#46039f"
            ],
            [
             0.2222222222222222,
             "#7201a8"
            ],
            [
             0.3333333333333333,
             "#9c179e"
            ],
            [
             0.4444444444444444,
             "#bd3786"
            ],
            [
             0.5555555555555556,
             "#d8576b"
            ],
            [
             0.6666666666666666,
             "#ed7953"
            ],
            [
             0.7777777777777778,
             "#fb9f3a"
            ],
            [
             0.8888888888888888,
             "#fdca26"
            ],
            [
             1,
             "#f0f921"
            ]
           ]
          },
          "colorway": [
           "#636efa",
           "#EF553B",
           "#00cc96",
           "#ab63fa",
           "#FFA15A",
           "#19d3f3",
           "#FF6692",
           "#B6E880",
           "#FF97FF",
           "#FECB52"
          ],
          "font": {
           "color": "#2a3f5f"
          },
          "geo": {
           "bgcolor": "white",
           "lakecolor": "white",
           "landcolor": "#E5ECF6",
           "showlakes": true,
           "showland": true,
           "subunitcolor": "white"
          },
          "hoverlabel": {
           "align": "left"
          },
          "hovermode": "closest",
          "mapbox": {
           "style": "light"
          },
          "paper_bgcolor": "white",
          "plot_bgcolor": "#E5ECF6",
          "polar": {
           "angularaxis": {
            "gridcolor": "white",
            "linecolor": "white",
            "ticks": ""
           },
           "bgcolor": "#E5ECF6",
           "radialaxis": {
            "gridcolor": "white",
            "linecolor": "white",
            "ticks": ""
           }
          },
          "scene": {
           "xaxis": {
            "backgroundcolor": "#E5ECF6",
            "gridcolor": "white",
            "gridwidth": 2,
            "linecolor": "white",
            "showbackground": true,
            "ticks": "",
            "zerolinecolor": "white"
           },
           "yaxis": {
            "backgroundcolor": "#E5ECF6",
            "gridcolor": "white",
            "gridwidth": 2,
            "linecolor": "white",
            "showbackground": true,
            "ticks": "",
            "zerolinecolor": "white"
           },
           "zaxis": {
            "backgroundcolor": "#E5ECF6",
            "gridcolor": "white",
            "gridwidth": 2,
            "linecolor": "white",
            "showbackground": true,
            "ticks": "",
            "zerolinecolor": "white"
           }
          },
          "shapedefaults": {
           "line": {
            "color": "#2a3f5f"
           }
          },
          "ternary": {
           "aaxis": {
            "gridcolor": "white",
            "linecolor": "white",
            "ticks": ""
           },
           "baxis": {
            "gridcolor": "white",
            "linecolor": "white",
            "ticks": ""
           },
           "bgcolor": "#E5ECF6",
           "caxis": {
            "gridcolor": "white",
            "linecolor": "white",
            "ticks": ""
           }
          },
          "title": {
           "x": 0.05
          },
          "xaxis": {
           "automargin": true,
           "gridcolor": "white",
           "linecolor": "white",
           "ticks": "",
           "title": {
            "standoff": 15
           },
           "zerolinecolor": "white",
           "zerolinewidth": 2
          },
          "yaxis": {
           "automargin": true,
           "gridcolor": "white",
           "linecolor": "white",
           "ticks": "",
           "title": {
            "standoff": 15
           },
           "zerolinecolor": "white",
           "zerolinewidth": 2
          }
         }
        }
       }
      },
      "text/html": [
       "<div>\n",
       "        \n",
       "        \n",
       "            <div id=\"80f6653b-d905-4b83-bcdb-6df736656b0e\" class=\"plotly-graph-div\" style=\"height:525px; width:100%;\"></div>\n",
       "            <script type=\"text/javascript\">\n",
       "                require([\"plotly\"], function(Plotly) {\n",
       "                    window.PLOTLYENV=window.PLOTLYENV || {};\n",
       "                    \n",
       "                if (document.getElementById(\"80f6653b-d905-4b83-bcdb-6df736656b0e\")) {\n",
       "                    Plotly.newPlot(\n",
       "                        '80f6653b-d905-4b83-bcdb-6df736656b0e',\n",
       "                        [{\"mode\": \"markers\", \"type\": \"scatter\", \"x\": [5.0, 5.0, 5.0, 5.0, 5.0, 5.0, 5.0, 5.0, 5.0, 5.0, 19.0, 19.0, 19.0, 19.0, 19.0, 19.0, 19.0, 19.0, 19.0, 19.0, 33.0, 33.0, 33.0, 33.0, 33.0, 33.0, 33.0, 33.0, 33.0, 33.0, 47.0, 47.0, 47.0, 47.0, 47.0, 47.0, 47.0, 47.0, 47.0, 47.0, 61.0, 61.0, 61.0, 61.0, 61.0, 61.0, 61.0, 61.0, 61.0, 61.0, 75.0, 75.0, 75.0, 75.0, 75.0, 75.0, 75.0, 75.0, 75.0, 75.0, 89.0, 89.0, 89.0, 89.0, 89.0, 89.0, 89.0, 89.0, 89.0, 89.0, 103.0, 103.0, 103.0, 103.0, 103.0, 103.0, 103.0, 103.0, 103.0, 103.0], \"y\": [5.0, 17.22222222222222, 29.444444444444443, 41.666666666666664, 53.888888888888886, 66.11111111111111, 78.33333333333333, 90.55555555555554, 102.77777777777777, 115.0, 5.0, 17.22222222222222, 29.444444444444443, 41.666666666666664, 53.888888888888886, 66.11111111111111, 78.33333333333333, 90.55555555555554, 102.77777777777777, 115.0, 5.0, 17.22222222222222, 29.444444444444443, 41.666666666666664, 53.888888888888886, 66.11111111111111, 78.33333333333333, 90.55555555555554, 102.77777777777777, 115.0, 5.0, 17.22222222222222, 29.444444444444443, 41.666666666666664, 53.888888888888886, 66.11111111111111, 78.33333333333333, 90.55555555555554, 102.77777777777777, 115.0, 5.0, 17.22222222222222, 29.444444444444443, 41.666666666666664, 53.888888888888886, 66.11111111111111, 78.33333333333333, 90.55555555555554, 102.77777777777777, 115.0, 5.0, 17.22222222222222, 29.444444444444443, 41.666666666666664, 53.888888888888886, 66.11111111111111, 78.33333333333333, 90.55555555555554, 102.77777777777777, 115.0, 5.0, 17.22222222222222, 29.444444444444443, 41.666666666666664, 53.888888888888886, 66.11111111111111, 78.33333333333333, 90.55555555555554, 102.77777777777777, 115.0, 5.0, 17.22222222222222, 29.444444444444443, 41.666666666666664, 53.888888888888886, 66.11111111111111, 78.33333333333333, 90.55555555555554, 102.77777777777777, 115.0]}],\n",
       "                        {\"template\": {\"data\": {\"bar\": [{\"error_x\": {\"color\": \"#2a3f5f\"}, \"error_y\": {\"color\": \"#2a3f5f\"}, \"marker\": {\"line\": {\"color\": \"#E5ECF6\", \"width\": 0.5}}, \"type\": \"bar\"}], \"barpolar\": [{\"marker\": {\"line\": {\"color\": \"#E5ECF6\", \"width\": 0.5}}, \"type\": \"barpolar\"}], \"carpet\": [{\"aaxis\": {\"endlinecolor\": \"#2a3f5f\", \"gridcolor\": \"white\", \"linecolor\": \"white\", \"minorgridcolor\": \"white\", \"startlinecolor\": \"#2a3f5f\"}, \"baxis\": {\"endlinecolor\": \"#2a3f5f\", \"gridcolor\": \"white\", \"linecolor\": \"white\", \"minorgridcolor\": \"white\", \"startlinecolor\": \"#2a3f5f\"}, \"type\": \"carpet\"}], \"choropleth\": [{\"colorbar\": {\"outlinewidth\": 0, \"ticks\": \"\"}, \"type\": \"choropleth\"}], \"contour\": [{\"colorbar\": {\"outlinewidth\": 0, \"ticks\": \"\"}, \"colorscale\": [[0.0, \"#0d0887\"], [0.1111111111111111, \"#46039f\"], [0.2222222222222222, \"#7201a8\"], [0.3333333333333333, \"#9c179e\"], [0.4444444444444444, \"#bd3786\"], [0.5555555555555556, \"#d8576b\"], [0.6666666666666666, \"#ed7953\"], [0.7777777777777778, \"#fb9f3a\"], [0.8888888888888888, \"#fdca26\"], [1.0, \"#f0f921\"]], \"type\": \"contour\"}], \"contourcarpet\": [{\"colorbar\": {\"outlinewidth\": 0, \"ticks\": \"\"}, \"type\": \"contourcarpet\"}], \"heatmap\": [{\"colorbar\": {\"outlinewidth\": 0, \"ticks\": \"\"}, \"colorscale\": [[0.0, \"#0d0887\"], [0.1111111111111111, \"#46039f\"], [0.2222222222222222, \"#7201a8\"], [0.3333333333333333, \"#9c179e\"], [0.4444444444444444, \"#bd3786\"], [0.5555555555555556, \"#d8576b\"], [0.6666666666666666, \"#ed7953\"], [0.7777777777777778, \"#fb9f3a\"], [0.8888888888888888, \"#fdca26\"], [1.0, \"#f0f921\"]], \"type\": \"heatmap\"}], \"heatmapgl\": [{\"colorbar\": {\"outlinewidth\": 0, \"ticks\": \"\"}, \"colorscale\": [[0.0, \"#0d0887\"], [0.1111111111111111, \"#46039f\"], [0.2222222222222222, \"#7201a8\"], [0.3333333333333333, \"#9c179e\"], [0.4444444444444444, \"#bd3786\"], [0.5555555555555556, \"#d8576b\"], [0.6666666666666666, \"#ed7953\"], [0.7777777777777778, \"#fb9f3a\"], [0.8888888888888888, \"#fdca26\"], [1.0, \"#f0f921\"]], \"type\": \"heatmapgl\"}], \"histogram\": [{\"marker\": {\"colorbar\": {\"outlinewidth\": 0, \"ticks\": \"\"}}, \"type\": \"histogram\"}], \"histogram2d\": [{\"colorbar\": {\"outlinewidth\": 0, \"ticks\": \"\"}, \"colorscale\": [[0.0, \"#0d0887\"], [0.1111111111111111, \"#46039f\"], [0.2222222222222222, \"#7201a8\"], [0.3333333333333333, \"#9c179e\"], [0.4444444444444444, \"#bd3786\"], [0.5555555555555556, \"#d8576b\"], [0.6666666666666666, \"#ed7953\"], [0.7777777777777778, \"#fb9f3a\"], [0.8888888888888888, \"#fdca26\"], [1.0, \"#f0f921\"]], \"type\": \"histogram2d\"}], \"histogram2dcontour\": [{\"colorbar\": {\"outlinewidth\": 0, \"ticks\": \"\"}, \"colorscale\": [[0.0, \"#0d0887\"], [0.1111111111111111, \"#46039f\"], [0.2222222222222222, \"#7201a8\"], [0.3333333333333333, \"#9c179e\"], [0.4444444444444444, \"#bd3786\"], [0.5555555555555556, \"#d8576b\"], [0.6666666666666666, \"#ed7953\"], [0.7777777777777778, \"#fb9f3a\"], [0.8888888888888888, \"#fdca26\"], [1.0, \"#f0f921\"]], \"type\": \"histogram2dcontour\"}], \"mesh3d\": [{\"colorbar\": {\"outlinewidth\": 0, \"ticks\": \"\"}, \"type\": \"mesh3d\"}], \"parcoords\": [{\"line\": {\"colorbar\": {\"outlinewidth\": 0, \"ticks\": \"\"}}, \"type\": \"parcoords\"}], \"pie\": [{\"automargin\": true, \"type\": \"pie\"}], \"scatter\": [{\"marker\": {\"colorbar\": {\"outlinewidth\": 0, \"ticks\": \"\"}}, \"type\": \"scatter\"}], \"scatter3d\": [{\"line\": {\"colorbar\": {\"outlinewidth\": 0, \"ticks\": \"\"}}, \"marker\": {\"colorbar\": {\"outlinewidth\": 0, \"ticks\": \"\"}}, \"type\": \"scatter3d\"}], \"scattercarpet\": [{\"marker\": {\"colorbar\": {\"outlinewidth\": 0, \"ticks\": \"\"}}, \"type\": \"scattercarpet\"}], \"scattergeo\": [{\"marker\": {\"colorbar\": {\"outlinewidth\": 0, \"ticks\": \"\"}}, \"type\": \"scattergeo\"}], \"scattergl\": [{\"marker\": {\"colorbar\": {\"outlinewidth\": 0, \"ticks\": \"\"}}, \"type\": \"scattergl\"}], \"scattermapbox\": [{\"marker\": {\"colorbar\": {\"outlinewidth\": 0, \"ticks\": \"\"}}, \"type\": \"scattermapbox\"}], \"scatterpolar\": [{\"marker\": {\"colorbar\": {\"outlinewidth\": 0, \"ticks\": \"\"}}, \"type\": \"scatterpolar\"}], \"scatterpolargl\": [{\"marker\": {\"colorbar\": {\"outlinewidth\": 0, \"ticks\": \"\"}}, \"type\": \"scatterpolargl\"}], \"scatterternary\": [{\"marker\": {\"colorbar\": {\"outlinewidth\": 0, \"ticks\": \"\"}}, \"type\": \"scatterternary\"}], \"surface\": [{\"colorbar\": {\"outlinewidth\": 0, \"ticks\": \"\"}, \"colorscale\": [[0.0, \"#0d0887\"], [0.1111111111111111, \"#46039f\"], [0.2222222222222222, \"#7201a8\"], [0.3333333333333333, \"#9c179e\"], [0.4444444444444444, \"#bd3786\"], [0.5555555555555556, \"#d8576b\"], [0.6666666666666666, \"#ed7953\"], [0.7777777777777778, \"#fb9f3a\"], [0.8888888888888888, \"#fdca26\"], [1.0, \"#f0f921\"]], \"type\": \"surface\"}], \"table\": [{\"cells\": {\"fill\": {\"color\": \"#EBF0F8\"}, \"line\": {\"color\": \"white\"}}, \"header\": {\"fill\": {\"color\": \"#C8D4E3\"}, \"line\": {\"color\": \"white\"}}, \"type\": \"table\"}]}, \"layout\": {\"annotationdefaults\": {\"arrowcolor\": \"#2a3f5f\", \"arrowhead\": 0, \"arrowwidth\": 1}, \"coloraxis\": {\"colorbar\": {\"outlinewidth\": 0, \"ticks\": \"\"}}, \"colorscale\": {\"diverging\": [[0, \"#8e0152\"], [0.1, \"#c51b7d\"], [0.2, \"#de77ae\"], [0.3, \"#f1b6da\"], [0.4, \"#fde0ef\"], [0.5, \"#f7f7f7\"], [0.6, \"#e6f5d0\"], [0.7, \"#b8e186\"], [0.8, \"#7fbc41\"], [0.9, \"#4d9221\"], [1, \"#276419\"]], \"sequential\": [[0.0, \"#0d0887\"], [0.1111111111111111, \"#46039f\"], [0.2222222222222222, \"#7201a8\"], [0.3333333333333333, \"#9c179e\"], [0.4444444444444444, \"#bd3786\"], [0.5555555555555556, \"#d8576b\"], [0.6666666666666666, \"#ed7953\"], [0.7777777777777778, \"#fb9f3a\"], [0.8888888888888888, \"#fdca26\"], [1.0, \"#f0f921\"]], \"sequentialminus\": [[0.0, \"#0d0887\"], [0.1111111111111111, \"#46039f\"], [0.2222222222222222, \"#7201a8\"], [0.3333333333333333, \"#9c179e\"], [0.4444444444444444, \"#bd3786\"], [0.5555555555555556, \"#d8576b\"], [0.6666666666666666, \"#ed7953\"], [0.7777777777777778, \"#fb9f3a\"], [0.8888888888888888, \"#fdca26\"], [1.0, \"#f0f921\"]]}, \"colorway\": [\"#636efa\", \"#EF553B\", \"#00cc96\", \"#ab63fa\", \"#FFA15A\", \"#19d3f3\", \"#FF6692\", \"#B6E880\", \"#FF97FF\", \"#FECB52\"], \"font\": {\"color\": \"#2a3f5f\"}, \"geo\": {\"bgcolor\": \"white\", \"lakecolor\": \"white\", \"landcolor\": \"#E5ECF6\", \"showlakes\": true, \"showland\": true, \"subunitcolor\": \"white\"}, \"hoverlabel\": {\"align\": \"left\"}, \"hovermode\": \"closest\", \"mapbox\": {\"style\": \"light\"}, \"paper_bgcolor\": \"white\", \"plot_bgcolor\": \"#E5ECF6\", \"polar\": {\"angularaxis\": {\"gridcolor\": \"white\", \"linecolor\": \"white\", \"ticks\": \"\"}, \"bgcolor\": \"#E5ECF6\", \"radialaxis\": {\"gridcolor\": \"white\", \"linecolor\": \"white\", \"ticks\": \"\"}}, \"scene\": {\"xaxis\": {\"backgroundcolor\": \"#E5ECF6\", \"gridcolor\": \"white\", \"gridwidth\": 2, \"linecolor\": \"white\", \"showbackground\": true, \"ticks\": \"\", \"zerolinecolor\": \"white\"}, \"yaxis\": {\"backgroundcolor\": \"#E5ECF6\", \"gridcolor\": \"white\", \"gridwidth\": 2, \"linecolor\": \"white\", \"showbackground\": true, \"ticks\": \"\", \"zerolinecolor\": \"white\"}, \"zaxis\": {\"backgroundcolor\": \"#E5ECF6\", \"gridcolor\": \"white\", \"gridwidth\": 2, \"linecolor\": \"white\", \"showbackground\": true, \"ticks\": \"\", \"zerolinecolor\": \"white\"}}, \"shapedefaults\": {\"line\": {\"color\": \"#2a3f5f\"}}, \"ternary\": {\"aaxis\": {\"gridcolor\": \"white\", \"linecolor\": \"white\", \"ticks\": \"\"}, \"baxis\": {\"gridcolor\": \"white\", \"linecolor\": \"white\", \"ticks\": \"\"}, \"bgcolor\": \"#E5ECF6\", \"caxis\": {\"gridcolor\": \"white\", \"linecolor\": \"white\", \"ticks\": \"\"}}, \"title\": {\"x\": 0.05}, \"xaxis\": {\"automargin\": true, \"gridcolor\": \"white\", \"linecolor\": \"white\", \"ticks\": \"\", \"title\": {\"standoff\": 15}, \"zerolinecolor\": \"white\", \"zerolinewidth\": 2}, \"yaxis\": {\"automargin\": true, \"gridcolor\": \"white\", \"linecolor\": \"white\", \"ticks\": \"\", \"title\": {\"standoff\": 15}, \"zerolinecolor\": \"white\", \"zerolinewidth\": 2}}}},\n",
       "                        {\"responsive\": true}\n",
       "                    ).then(function(){\n",
       "                            \n",
       "var gd = document.getElementById('80f6653b-d905-4b83-bcdb-6df736656b0e');\n",
       "var x = new MutationObserver(function (mutations, observer) {{\n",
       "        var display = window.getComputedStyle(gd).display;\n",
       "        if (!display || display === 'none') {{\n",
       "            console.log([gd, 'removed!']);\n",
       "            Plotly.purge(gd);\n",
       "            observer.disconnect();\n",
       "        }}\n",
       "}});\n",
       "\n",
       "// Listen for the removal of the full notebook cells\n",
       "var notebookContainer = gd.closest('#notebook-container');\n",
       "if (notebookContainer) {{\n",
       "    x.observe(notebookContainer, {childList: true});\n",
       "}}\n",
       "\n",
       "// Listen for the clearing of the current output cell\n",
       "var outputEl = gd.closest('.output');\n",
       "if (outputEl) {{\n",
       "    x.observe(outputEl, {childList: true});\n",
       "}}\n",
       "\n",
       "                        })\n",
       "                };\n",
       "                });\n",
       "            </script>\n",
       "        </div>"
      ]
     },
     "metadata": {},
     "output_type": "display_data"
    }
   ],
   "source": [
    "fig = go.Figure(data=[go.Scatter(x=c[:,0], y=c[:,1],\n",
    "                                   mode='markers')])\n",
    "fig.show()"
   ]
  },
  {
   "cell_type": "code",
   "execution_count": 12,
   "metadata": {},
   "outputs": [],
   "source": [
    "gcode = \"G21 G90\\n\"\n",
    "gcode += \"G0 Z1\\n\"\n",
    "gcode += \"(PROBEOPEN /home/pocketnc/probefiles/surface.txt)\\n\"\n",
    "for i in range(c.shape[0]):\n",
    "    gcode += \"G90 G0 X{} Y{}\\n\".format(c[i,0],c[i,1])\n",
    "    gcode += \"G90 G38.2 Z-1 F100\\n\"\n",
    "    gcode += \"G90 G0 Z1\\n\"\n",
    "gcode += \"(PROBECLOSE)\\n\"\n",
    "gcode += \"M2\\n\""
   ]
  },
  {
   "cell_type": "code",
   "execution_count": 13,
   "metadata": {},
   "outputs": [
    {
     "name": "stdout",
     "output_type": "stream",
     "text": [
      "G21 G90\n",
      "G0 Z1\n",
      "(PROBEOPEN /home/pocketnc/probefiles/surface.txt)\n",
      "G90 G0 X5.0 Y5.0\n",
      "G90 G38.2 Z-1 F100\n",
      "G90 G0 Z1\n",
      "G90 G0 X5.0 Y17.22222222222222\n",
      "G90 G38.2 Z-1 F100\n",
      "G90 G0 Z1\n",
      "G90 G0 X5.0 Y29.444444444444443\n",
      "G90 G38.2 Z-1 F100\n",
      "G90 G0 Z1\n",
      "G90 G0 X5.0 Y41.666666666666664\n",
      "G90 G38.2 Z-1 F100\n",
      "G90 G0 Z1\n",
      "G90 G0 X5.0 Y53.888888888888886\n",
      "G90 G38.2 Z-1 F100\n",
      "G90 G0 Z1\n",
      "G90 G0 X5.0 Y66.11111111111111\n",
      "G90 G38.2 Z-1 F100\n",
      "G90 G0 Z1\n",
      "G90 G0 X5.0 Y78.33333333333333\n",
      "G90 G38.2 Z-1 F100\n",
      "G90 G0 Z1\n",
      "G90 G0 X5.0 Y90.55555555555554\n",
      "G90 G38.2 Z-1 F100\n",
      "G90 G0 Z1\n",
      "G90 G0 X5.0 Y102.77777777777777\n",
      "G90 G38.2 Z-1 F100\n",
      "G90 G0 Z1\n",
      "G90 G0 X5.0 Y115.0\n",
      "G90 G38.2 Z-1 F100\n",
      "G90 G0 Z1\n",
      "G90 G0 X19.0 Y5.0\n",
      "G90 G38.2 Z-1 F100\n",
      "G90 G0 Z1\n",
      "G90 G0 X19.0 Y17.22222222222222\n",
      "G90 G38.2 Z-1 F100\n",
      "G90 G0 Z1\n",
      "G90 G0 X19.0 Y29.444444444444443\n",
      "G90 G38.2 Z-1 F100\n",
      "G90 G0 Z1\n",
      "G90 G0 X19.0 Y41.666666666666664\n",
      "G90 G38.2 Z-1 F100\n",
      "G90 G0 Z1\n",
      "G90 G0 X19.0 Y53.888888888888886\n",
      "G90 G38.2 Z-1 F100\n",
      "G90 G0 Z1\n",
      "G90 G0 X19.0 Y66.11111111111111\n",
      "G90 G38.2 Z-1 F100\n",
      "G90 G0 Z1\n",
      "G90 G0 X19.0 Y78.33333333333333\n",
      "G90 G38.2 Z-1 F100\n",
      "G90 G0 Z1\n",
      "G90 G0 X19.0 Y90.55555555555554\n",
      "G90 G38.2 Z-1 F100\n",
      "G90 G0 Z1\n",
      "G90 G0 X19.0 Y102.77777777777777\n",
      "G90 G38.2 Z-1 F100\n",
      "G90 G0 Z1\n",
      "G90 G0 X19.0 Y115.0\n",
      "G90 G38.2 Z-1 F100\n",
      "G90 G0 Z1\n",
      "G90 G0 X33.0 Y5.0\n",
      "G90 G38.2 Z-1 F100\n",
      "G90 G0 Z1\n",
      "G90 G0 X33.0 Y17.22222222222222\n",
      "G90 G38.2 Z-1 F100\n",
      "G90 G0 Z1\n",
      "G90 G0 X33.0 Y29.444444444444443\n",
      "G90 G38.2 Z-1 F100\n",
      "G90 G0 Z1\n",
      "G90 G0 X33.0 Y41.666666666666664\n",
      "G90 G38.2 Z-1 F100\n",
      "G90 G0 Z1\n",
      "G90 G0 X33.0 Y53.888888888888886\n",
      "G90 G38.2 Z-1 F100\n",
      "G90 G0 Z1\n",
      "G90 G0 X33.0 Y66.11111111111111\n",
      "G90 G38.2 Z-1 F100\n",
      "G90 G0 Z1\n",
      "G90 G0 X33.0 Y78.33333333333333\n",
      "G90 G38.2 Z-1 F100\n",
      "G90 G0 Z1\n",
      "G90 G0 X33.0 Y90.55555555555554\n",
      "G90 G38.2 Z-1 F100\n",
      "G90 G0 Z1\n",
      "G90 G0 X33.0 Y102.77777777777777\n",
      "G90 G38.2 Z-1 F100\n",
      "G90 G0 Z1\n",
      "G90 G0 X33.0 Y115.0\n",
      "G90 G38.2 Z-1 F100\n",
      "G90 G0 Z1\n",
      "G90 G0 X47.0 Y5.0\n",
      "G90 G38.2 Z-1 F100\n",
      "G90 G0 Z1\n",
      "G90 G0 X47.0 Y17.22222222222222\n",
      "G90 G38.2 Z-1 F100\n",
      "G90 G0 Z1\n",
      "G90 G0 X47.0 Y29.444444444444443\n",
      "G90 G38.2 Z-1 F100\n",
      "G90 G0 Z1\n",
      "G90 G0 X47.0 Y41.666666666666664\n",
      "G90 G38.2 Z-1 F100\n",
      "G90 G0 Z1\n",
      "G90 G0 X47.0 Y53.888888888888886\n",
      "G90 G38.2 Z-1 F100\n",
      "G90 G0 Z1\n",
      "G90 G0 X47.0 Y66.11111111111111\n",
      "G90 G38.2 Z-1 F100\n",
      "G90 G0 Z1\n",
      "G90 G0 X47.0 Y78.33333333333333\n",
      "G90 G38.2 Z-1 F100\n",
      "G90 G0 Z1\n",
      "G90 G0 X47.0 Y90.55555555555554\n",
      "G90 G38.2 Z-1 F100\n",
      "G90 G0 Z1\n",
      "G90 G0 X47.0 Y102.77777777777777\n",
      "G90 G38.2 Z-1 F100\n",
      "G90 G0 Z1\n",
      "G90 G0 X47.0 Y115.0\n",
      "G90 G38.2 Z-1 F100\n",
      "G90 G0 Z1\n",
      "G90 G0 X61.0 Y5.0\n",
      "G90 G38.2 Z-1 F100\n",
      "G90 G0 Z1\n",
      "G90 G0 X61.0 Y17.22222222222222\n",
      "G90 G38.2 Z-1 F100\n",
      "G90 G0 Z1\n",
      "G90 G0 X61.0 Y29.444444444444443\n",
      "G90 G38.2 Z-1 F100\n",
      "G90 G0 Z1\n",
      "G90 G0 X61.0 Y41.666666666666664\n",
      "G90 G38.2 Z-1 F100\n",
      "G90 G0 Z1\n",
      "G90 G0 X61.0 Y53.888888888888886\n",
      "G90 G38.2 Z-1 F100\n",
      "G90 G0 Z1\n",
      "G90 G0 X61.0 Y66.11111111111111\n",
      "G90 G38.2 Z-1 F100\n",
      "G90 G0 Z1\n",
      "G90 G0 X61.0 Y78.33333333333333\n",
      "G90 G38.2 Z-1 F100\n",
      "G90 G0 Z1\n",
      "G90 G0 X61.0 Y90.55555555555554\n",
      "G90 G38.2 Z-1 F100\n",
      "G90 G0 Z1\n",
      "G90 G0 X61.0 Y102.77777777777777\n",
      "G90 G38.2 Z-1 F100\n",
      "G90 G0 Z1\n",
      "G90 G0 X61.0 Y115.0\n",
      "G90 G38.2 Z-1 F100\n",
      "G90 G0 Z1\n",
      "G90 G0 X75.0 Y5.0\n",
      "G90 G38.2 Z-1 F100\n",
      "G90 G0 Z1\n",
      "G90 G0 X75.0 Y17.22222222222222\n",
      "G90 G38.2 Z-1 F100\n",
      "G90 G0 Z1\n",
      "G90 G0 X75.0 Y29.444444444444443\n",
      "G90 G38.2 Z-1 F100\n",
      "G90 G0 Z1\n",
      "G90 G0 X75.0 Y41.666666666666664\n",
      "G90 G38.2 Z-1 F100\n",
      "G90 G0 Z1\n",
      "G90 G0 X75.0 Y53.888888888888886\n",
      "G90 G38.2 Z-1 F100\n",
      "G90 G0 Z1\n",
      "G90 G0 X75.0 Y66.11111111111111\n",
      "G90 G38.2 Z-1 F100\n",
      "G90 G0 Z1\n",
      "G90 G0 X75.0 Y78.33333333333333\n",
      "G90 G38.2 Z-1 F100\n",
      "G90 G0 Z1\n",
      "G90 G0 X75.0 Y90.55555555555554\n",
      "G90 G38.2 Z-1 F100\n",
      "G90 G0 Z1\n",
      "G90 G0 X75.0 Y102.77777777777777\n",
      "G90 G38.2 Z-1 F100\n",
      "G90 G0 Z1\n",
      "G90 G0 X75.0 Y115.0\n",
      "G90 G38.2 Z-1 F100\n",
      "G90 G0 Z1\n",
      "G90 G0 X89.0 Y5.0\n",
      "G90 G38.2 Z-1 F100\n",
      "G90 G0 Z1\n",
      "G90 G0 X89.0 Y17.22222222222222\n",
      "G90 G38.2 Z-1 F100\n",
      "G90 G0 Z1\n",
      "G90 G0 X89.0 Y29.444444444444443\n",
      "G90 G38.2 Z-1 F100\n",
      "G90 G0 Z1\n",
      "G90 G0 X89.0 Y41.666666666666664\n",
      "G90 G38.2 Z-1 F100\n",
      "G90 G0 Z1\n",
      "G90 G0 X89.0 Y53.888888888888886\n",
      "G90 G38.2 Z-1 F100\n",
      "G90 G0 Z1\n",
      "G90 G0 X89.0 Y66.11111111111111\n",
      "G90 G38.2 Z-1 F100\n",
      "G90 G0 Z1\n",
      "G90 G0 X89.0 Y78.33333333333333\n",
      "G90 G38.2 Z-1 F100\n",
      "G90 G0 Z1\n",
      "G90 G0 X89.0 Y90.55555555555554\n",
      "G90 G38.2 Z-1 F100\n",
      "G90 G0 Z1\n",
      "G90 G0 X89.0 Y102.77777777777777\n",
      "G90 G38.2 Z-1 F100\n",
      "G90 G0 Z1\n",
      "G90 G0 X89.0 Y115.0\n",
      "G90 G38.2 Z-1 F100\n",
      "G90 G0 Z1\n",
      "G90 G0 X103.0 Y5.0\n",
      "G90 G38.2 Z-1 F100\n",
      "G90 G0 Z1\n",
      "G90 G0 X103.0 Y17.22222222222222\n",
      "G90 G38.2 Z-1 F100\n",
      "G90 G0 Z1\n",
      "G90 G0 X103.0 Y29.444444444444443\n",
      "G90 G38.2 Z-1 F100\n",
      "G90 G0 Z1\n",
      "G90 G0 X103.0 Y41.666666666666664\n",
      "G90 G38.2 Z-1 F100\n",
      "G90 G0 Z1\n",
      "G90 G0 X103.0 Y53.888888888888886\n",
      "G90 G38.2 Z-1 F100\n",
      "G90 G0 Z1\n",
      "G90 G0 X103.0 Y66.11111111111111\n",
      "G90 G38.2 Z-1 F100\n",
      "G90 G0 Z1\n",
      "G90 G0 X103.0 Y78.33333333333333\n",
      "G90 G38.2 Z-1 F100\n",
      "G90 G0 Z1\n",
      "G90 G0 X103.0 Y90.55555555555554\n",
      "G90 G38.2 Z-1 F100\n",
      "G90 G0 Z1\n",
      "G90 G0 X103.0 Y102.77777777777777\n",
      "G90 G38.2 Z-1 F100\n",
      "G90 G0 Z1\n",
      "G90 G0 X103.0 Y115.0\n",
      "G90 G38.2 Z-1 F100\n",
      "G90 G0 Z1\n",
      "(PROBECLOSE)\n",
      "M2\n",
      "\n"
     ]
    }
   ],
   "source": [
    "print(gcode)"
   ]
  },
  {
   "cell_type": "code",
   "execution_count": 14,
   "metadata": {},
   "outputs": [],
   "source": [
    "with open(\"./probe_surface.ngc\",\"w\") as f:\n",
    "    f.write(gcode)"
   ]
  },
  {
   "cell_type": "code",
   "execution_count": null,
   "metadata": {},
   "outputs": [],
   "source": []
  }
 ],
 "metadata": {
  "kernelspec": {
   "display_name": "Python 3",
   "language": "python",
   "name": "python3"
  },
  "language_info": {
   "codemirror_mode": {
    "name": "ipython",
    "version": 3
   },
   "file_extension": ".py",
   "mimetype": "text/x-python",
   "name": "python",
   "nbconvert_exporter": "python",
   "pygments_lexer": "ipython3",
   "version": "3.6.9"
  }
 },
 "nbformat": 4,
 "nbformat_minor": 2
}
